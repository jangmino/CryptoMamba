{
 "cells": [
  {
   "cell_type": "code",
   "execution_count": 1,
   "metadata": {},
   "outputs": [],
   "source": [
    "import pandas as pd\n",
    "import numpy as np\n",
    "import pandas_ta as ta\n",
    "\n",
    "import torch\n",
    "import torchvision.transforms as transforms\n",
    "import plotly.graph_objects as go\n",
    "from PIL import Image\n",
    "import io\n",
    "import jsonlines\n",
    "import json\n",
    "import os\n",
    "import re\n",
    "import argparse\n",
    "import random\n",
    "\n",
    "from tqdm import tqdm\n",
    "import sys\n",
    "sys.path.append('../')\n",
    "# sys.path.append('../../src/iTransformer')\n",
    "\n",
    "from utils.comp_tools import datetime_to_timestamp, get_raw_dfs, make_charted_data\n"
   ]
  },
  {
   "cell_type": "code",
   "execution_count": 2,
   "metadata": {},
   "outputs": [],
   "source": [
    "# 주피터 노트북에서 명령줄 인수를 설정하는 방법\n",
    "base_args = argparse.Namespace(\n",
    "    base_path_for_raw_data=\"../data/aiden_raw_data\",\n",
    "    raw_data_period=\"2022-01-01_2024-12-31\",\n",
    "    symbol=\"BTCUSDT\",\n",
    "    resolutions=[\"15m\"],\n",
    "    output_folder=\"../data/aiden_data\",\n",
    "    dataset_version=\"v0.3\",\n",
    ")"
   ]
  },
  {
   "cell_type": "code",
   "execution_count": 3,
   "metadata": {},
   "outputs": [],
   "source": [
    "raw_df = get_raw_dfs(base_args)['15m']\n",
    "# raw_df['Timestamp'] = datetime_to_timestamp(raw_df.reset_index()['Open time']).values"
   ]
  },
  {
   "cell_type": "code",
   "execution_count": 4,
   "metadata": {},
   "outputs": [],
   "source": [
    "df = make_charted_data(raw_df)\n",
    "df['Timestamp'] = datetime_to_timestamp(df['date'])"
   ]
  },
  {
   "cell_type": "code",
   "execution_count": 10,
   "metadata": {},
   "outputs": [
    {
     "data": {
      "text/plain": [
       "Index(['date', 'Open', 'High', 'Low', 'Close', 'Volume', 'SMA_5', 'SMA_10',\n",
       "       'SMA_20', 'vwap', 'bbl', 'bbm', 'bbu', 'BBB_20_2.0', 'BBP_20_2.0',\n",
       "       'RSI_7', 'RSI_14', 'RSI_21', 'MACD_12_26_9', 'MACDh_12_26_9',\n",
       "       'MACDs_12_26_9', 'Timestamp'],\n",
       "      dtype='object')"
      ]
     },
     "execution_count": 10,
     "metadata": {},
     "output_type": "execute_result"
    }
   ],
   "source": [
    "df.columns"
   ]
  },
  {
   "cell_type": "code",
   "execution_count": 9,
   "metadata": {},
   "outputs": [],
   "source": [
    "df.to_csv(os.path.join(base_args.output_folder, 'raw_data_additional_features.csv'), index=False)"
   ]
  },
  {
   "cell_type": "code",
   "execution_count": null,
   "metadata": {},
   "outputs": [],
   "source": []
  }
 ],
 "metadata": {
  "kernelspec": {
   "display_name": "base",
   "language": "python",
   "name": "python3"
  },
  "language_info": {
   "codemirror_mode": {
    "name": "ipython",
    "version": 3
   },
   "file_extension": ".py",
   "mimetype": "text/x-python",
   "name": "python",
   "nbconvert_exporter": "python",
   "pygments_lexer": "ipython3",
   "version": "3.11.11"
  }
 },
 "nbformat": 4,
 "nbformat_minor": 2
}
